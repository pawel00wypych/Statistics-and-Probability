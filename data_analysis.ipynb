{
 "cells": [
  {
   "cell_type": "code",
   "id": "initial_id",
   "metadata": {
    "collapsed": true
   },
   "source": [
    "import pandas as pd\n",
    "\n",
    "data = pd.read_csv(\"supermarket_sales - Sheet1.csv\")\n",
    "data.head(50)"
   ],
   "outputs": [],
   "execution_count": null
  },
  {
   "metadata": {},
   "cell_type": "code",
   "source": [
    "import seaborn as sns\n",
    "import matplotlib.pyplot as plt\n",
    "\n",
    "# Create 2x2 grid of subplots\n",
    "fig, axes = plt.subplots(5,2,figsize=(14,18))\n",
    "\n",
    "# Flatten axes array for easy iteration\n",
    "axes = axes.flatten()\n",
    "\n",
    "sns.histplot(data, x=\"Total\", hue=\"Gender\", ax=axes[0])\n",
    "sns.kdeplot(data, x=\"Total\", fill=True, hue=\"Gender\", ax=axes[1])\n",
    "sns.countplot(data, x=\"Payment\", hue=\"Gender\", ax=axes[2])\n",
    "sns.countplot(data, y=\"Product line\", hue=\"Gender\", ax=axes[3])\n",
    "sns.countplot(data, x=\"Quantity\", hue=\"Customer type\", ax=axes[4])\n",
    "sns.boxplot(data, x=\"Payment\", y=\"Total\"  ,hue=\"Gender\", ax=axes[5])\n",
    "sns.boxplot(data, x=\"Payment\", y=\"gross income\"  ,hue=\"Gender\", ax=axes[6])\n",
    "sns.scatterplot(data, x=\"gross income\", y=\"Unit price\", size=\"Quantity\", ax=axes[7])\n",
    "sns.scatterplot(data, x=\"gross income\", y=\"Unit price\", hue=\"Payment\", ax=axes[8])\n",
    "\n",
    "plt.tight_layout()\n",
    "plt.show()"
   ],
   "id": "a5a1ff00b9887982",
   "outputs": [],
   "execution_count": null
  },
  {
   "metadata": {},
   "cell_type": "code",
   "source": "sns.pairplot(data)",
   "id": "7880b58745e7dc76",
   "outputs": [],
   "execution_count": null
  }
 ],
 "metadata": {
  "kernelspec": {
   "display_name": "Python [conda env:.conda-snp_py313]",
   "language": "python",
   "name": "conda-env-.conda-snp_py313-py"
  },
  "language_info": {
   "codemirror_mode": {
    "name": "ipython",
    "version": 2
   },
   "file_extension": ".py",
   "mimetype": "text/x-python",
   "name": "python",
   "nbconvert_exporter": "python",
   "pygments_lexer": "ipython2",
   "version": "2.7.6"
  }
 },
 "nbformat": 4,
 "nbformat_minor": 5
}
